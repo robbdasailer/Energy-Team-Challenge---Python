{
 "cells": [
  {
   "attachments": {},
   "cell_type": "markdown",
   "metadata": {},
   "source": [
    "# Pathway A"
   ]
  },
  {
   "attachments": {},
   "cell_type": "markdown",
   "metadata": {},
   "source": [
    "## Overall units:\n",
    "   energy: GWh\n",
    "   capacity: GW\n",
    "   area: km^2\n",
    "   money: €"
   ]
  },
  {
   "attachments": {},
   "cell_type": "markdown",
   "metadata": {},
   "source": [
    "## Assumptions from task description"
   ]
  },
  {
   "cell_type": "code",
   "execution_count": 24,
   "metadata": {},
   "outputs": [],
   "source": [
    "# Define customers\n",
    "customers = ['Customer_1_Steel_Plant', 'Customer_2_Chemical_Plant', 'Customer_3_Airport']\n",
    "\n",
    "# Define time horizon\n",
    "time_horizon = range(1, 31)  # Time periods from 1 to 10\n",
    "\n",
    "# Define selling prices\n",
    "price_per_unit = {\n",
    "    'hydrogen': 210000,\n",
    "    'ammonia': 287004,\n",
    "    'jetfuel': 315000,\n",
    "}\n",
    "\n",
    "# Define typical capacity per unit area in GW/km^2\n",
    "capacity_per_unit = {\n",
    "    'photovoltaic': 20,\n",
    "    'wind': 30,\n",
    "}\n",
    "\n",
    "# CO2 demand for 1GWh of jetfuel in tons/GWh\n",
    "CO2_demand_per_unit_jetfuel = 260 \n",
    "\n",
    "capex = {\n",
    "    'photovoltaic': 650 * 10 ** 6,\n",
    "    'wind': 1500 * 10 ** 6,\n",
    "    'PEM_electrolyzer': 700 * 10 ** 6,\n",
    "    'alkaline_electrolyzer': 650 * 10 ** 6,\n",
    "    'FT_synthesis': 1200 * 10 ** 6,\n",
    "    'ammonia_synthesis': 1400 * 10 ** 6,\n",
    "    'ammonia_splitting': 1000 * 10 **6,\n",
    "    'battery': 250 * 10 **6, #in €/GWh\n",
    "}\n",
    "\n",
    "opex = {\n",
    "    'photovoltaic': 0.03 * capex['photovoltaic'],\n",
    "    'wind': 0.04 * capex['wind'],\n",
    "    'PEM_electrolyzer': 0.04 * capex['PEM_electrolyzer'],\n",
    "    'alkaline_electrolyzer': 0.04 * capex['alkaline_electrolyzer'],\n",
    "    'FT_synthesis': 0.05 * capex['FT_synthesis'],\n",
    "    'ammonia_synthesis': 0.05 * capex['ammonia_synthesis'],\n",
    "    'ammonia_splitting': 0.05 * capex['ammonia_splitting'],\n",
    "    'battery': 0 * capex['battery'], #Zahlen einfügen\n",
    "}\n",
    "\n",
    "# Transport costs in €/GWh\n",
    "transport_costs = {\n",
    "    'hydrogen': 20 * 10**3, \n",
    "    'ammonia': 10 * 10**3,\n",
    "    'jetfuel': 5 * 10**3,\n",
    "}\n",
    "\n",
    "# CO2-capturing costs in €/ton\n",
    "point_source_costs = 70 \n",
    "\n",
    "# Define the CO2 point source availabilty in tCO2 /a\n",
    "#m = - 150000 / (2050-2023)\n",
    "#b = 150000 \n",
    "\n",
    "#point_source_availability = {}\n",
    "#for t in time_horizon:\n",
    "    #point_source_availability[t-1] = m*(t-1) + b\n",
    "   # if t > 27:\n",
    "        #point_source_availability[t-1] = 0"
   ]
  },
  {
   "attachments": {},
   "cell_type": "markdown",
   "metadata": {},
   "source": [
    "## Our own assumptions"
   ]
  },
  {
   "cell_type": "code",
   "execution_count": 25,
   "metadata": {},
   "outputs": [
    {
     "name": "stdout",
     "output_type": "stream",
     "text": [
      "{'Customer_1_Steel_Plant': {0: 1000, 1: 1000, 2: 1000, 3: 1000, 4: 1000, 5: 1000, 6: 1000, 7: 1000, 8: 1000, 9: 1000, 10: 1000, 11: 1000, 12: 1000, 13: 1000, 14: 1000, 15: 1000, 16: 1000, 17: 1000, 18: 1000, 19: 1000, 20: 1000, 21: 1000, 22: 1000, 23: 1000, 24: 1000, 25: 1000, 26: 1000, 27: 1000, 28: 1000, 29: 1000}, 'Customer_2_Chemical_Plant': {0: 278, 1: 278, 2: 278, 3: 278, 4: 278, 5: 278, 6: 278, 7: 278, 8: 278, 9: 278, 10: 278, 11: 278, 12: 278, 13: 278, 14: 278, 15: 278, 16: 278, 17: 278, 18: 278, 19: 278, 20: 278, 21: 278, 22: 278, 23: 278, 24: 278, 25: 278, 26: 278, 27: 278, 28: 278, 29: 278}, 'Customer_3_Airport': {0: 0, 1: 0, 2: 0, 3: 0, 4: 0, 5: 0, 6: 0, 7: 0, 8: 0, 9: 0, 10: 0, 11: 0, 12: 0, 13: 0, 14: 0, 15: 0, 16: 0, 17: 0, 18: 0, 19: 0, 20: 0, 21: 0, 22: 0, 23: 0, 24: 0, 25: 0, 26: 0, 27: 0, 28: 0, 29: 0}}\n"
     ]
    }
   ],
   "source": [
    "# Decision variables\n",
    "x = {\n",
    "    'photovoltaic': 1,              # Do you want to use PV..\n",
    "    'wind': 0,                      # or do you want to use wind?\n",
    "    'PEM_electrolyzer': 1,          # Do you want to use PEM..\n",
    "    'alkaline_electrolyzer': 0,     # or do you want to use Alkaline?\n",
    "    'FT_synthesis': 0,\n",
    "    'ammonia_synthesis': 1,\n",
    "    'ammonia_splitting': 1,\n",
    "    'battery': 1,\n",
    "    }\n",
    "\n",
    "x_transport = {\n",
    "    'hydrogen': 0,                  # Do you want to produce hydrogen in morocco?\n",
    "    'ammonia': 1,                   # Do you want to produce ammonia in morocco?\n",
    "    'jetfuel': 0,                    # Do you want to produce jetfuel in morocco?\n",
    "}\n",
    "\n",
    "# Define supply to customers\n",
    "y = {}\n",
    "y['Customer_1_Steel_Plant'] = {}\n",
    "y['Customer_2_Chemical_Plant'] = {}\n",
    "y['Customer_3_Airport'] = {}\n",
    "\n",
    "for t in time_horizon:\n",
    "    y['Customer_1_Steel_Plant'][t-1] = 1000\n",
    "    y['Customer_2_Chemical_Plant'][t-1] = 278\n",
    "    y['Customer_3_Airport'][t-1] = 0\n",
    "\n",
    "# Define the size of technologies in GW\n",
    "capacity = {\n",
    "    'photovoltaic': 0.84,\n",
    "    'wind': 0,\n",
    "    'PEM_electrolyzer': 0.31,\n",
    "    'alkaline_electrolyzer': 0,\n",
    "    'FT_synthesis': 0,\n",
    "    'ammonia_synthesis': 1,\n",
    "    'ammonia_splitting':0,\n",
    "    'battery': 5, #in GWh\n",
    "}\n",
    "\n",
    "# Discount rate\n",
    "i = 0.1\n",
    "\n",
    "print(y)"
   ]
  },
  {
   "attachments": {},
   "cell_type": "markdown",
   "metadata": {},
   "source": [
    "### Assumption Check"
   ]
  },
  {
   "cell_type": "code",
   "execution_count": 26,
   "metadata": {},
   "outputs": [
    {
     "name": "stdout",
     "output_type": "stream",
     "text": [
      "Caution, is hydrogen split in rotterdam?\n"
     ]
    }
   ],
   "source": [
    "if(x['wind'] + x['photovoltaic']) > 1: print('Caution, both wind and PV selected')\n",
    "if(x['PEM_electrolyzer'] + x['alkaline_electrolyzer']) > 1: print('Caution, both PEM and alkaline electrolyzers selected')\n",
    "if y['Customer_1_Steel_Plant'][t-1] > 0 and x_transport['hydrogen'] < 1: print('Caution, is hydrogen split in rotterdam?')\n",
    "if y['Customer_2_Chemical_Plant'][t-1] > 0 and x_transport['ammonia'] < 1: print('Ammonia is split in rotterdam?')\n",
    "if y['Customer_3_Airport'][t-1] > 0 and x_transport['jetfuel'] < 1: print('Jet Fuel is split in rotterdam?')\n",
    "if (x['ammonia_splitting'] + x_transport['hydrogen']) > 1: print('If hydrogen is transported there is no need for ammonia splitting')"
   ]
  },
  {
   "attachments": {},
   "cell_type": "markdown",
   "metadata": {},
   "source": [
    "## Let's start the NPV calculation"
   ]
  },
  {
   "cell_type": "code",
   "execution_count": 27,
   "metadata": {},
   "outputs": [
    {
     "name": "stdout",
     "output_type": "stream",
     "text": [
      "{'Customer_1_Steel_Plant': {0: 210000000, 1: 210000000, 2: 210000000, 3: 210000000, 4: 210000000, 5: 210000000, 6: 210000000, 7: 210000000, 8: 210000000, 9: 210000000, 10: 210000000, 11: 210000000, 12: 210000000, 13: 210000000, 14: 210000000, 15: 210000000, 16: 210000000, 17: 210000000, 18: 210000000, 19: 210000000, 20: 210000000, 21: 210000000, 22: 210000000, 23: 210000000, 24: 210000000, 25: 210000000, 26: 210000000, 27: 210000000, 28: 210000000, 29: 210000000}, 'Customer_2_Chemical_Plant': {0: 79787112, 1: 79787112, 2: 79787112, 3: 79787112, 4: 79787112, 5: 79787112, 6: 79787112, 7: 79787112, 8: 79787112, 9: 79787112, 10: 79787112, 11: 79787112, 12: 79787112, 13: 79787112, 14: 79787112, 15: 79787112, 16: 79787112, 17: 79787112, 18: 79787112, 19: 79787112, 20: 79787112, 21: 79787112, 22: 79787112, 23: 79787112, 24: 79787112, 25: 79787112, 26: 79787112, 27: 79787112, 28: 79787112, 29: 79787112}, 'Customer_3_Airport': {0: 0, 1: 0, 2: 0, 3: 0, 4: 0, 5: 0, 6: 0, 7: 0, 8: 0, 9: 0, 10: 0, 11: 0, 12: 0, 13: 0, 14: 0, 15: 0, 16: 0, 17: 0, 18: 0, 19: 0, 20: 0, 21: 0, 22: 0, 23: 0, 24: 0, 25: 0, 26: 0, 27: 0, 28: 0, 29: 0}}\n",
      "initial investment: 3413000000.0\n",
      "{0: 8693613360, 1: 8693613360, 2: 8693613360, 3: 8693613360, 4: 8693613360, 5: 8693613360, 6: 8693613360, 7: 8693613360, 8: 8693613360, 9: 8693613360, 10: 8693613360, 11: 8693613360, 12: 8693613360, 13: 8693613360, 14: 8693613360, 15: 8693613360, 16: 8693613360, 17: 8693613360, 18: 8693613360, 19: 8693613360, 20: 8693613360, 21: 8693613360, 22: 8693613360, 23: 8693613360, 24: 8693613360, 25: 8693613360, 26: 8693613360, 27: 8693613360, 28: 8693613360, 29: 8693613360}\n",
      "{0: 0, 1: 0, 2: 0, 3: 0, 4: 0, 5: 0, 6: 0, 7: 0, 8: 0, 9: 0, 10: 0, 11: 0, 12: 0, 13: 0, 14: 0, 15: 0, 16: 0, 17: 0, 18: 0, 19: 0, 20: 0, 21: 0, 22: 0, 23: 0, 24: 0, 25: 0, 26: 0, 27: 0, 28: 0, 29: 0}\n",
      "{'photovoltaic': {0: 16380000.0, 1: 16380000.0, 2: 16380000.0, 3: 16380000.0, 4: 16380000.0, 5: 16380000.0, 6: 16380000.0, 7: 16380000.0, 8: 16380000.0, 9: 16380000.0, 10: 16380000.0, 11: 16380000.0, 12: 16380000.0, 13: 16380000.0, 14: 16380000.0, 15: 16380000.0, 16: 16380000.0, 17: 16380000.0, 18: 16380000.0, 19: 16380000.0, 20: 16380000.0, 21: 16380000.0, 22: 16380000.0, 23: 16380000.0, 24: 16380000.0, 25: 16380000.0, 26: 16380000.0, 27: 16380000.0, 28: 16380000.0, 29: 16380000.0}, 'wind': {0: 0.0, 1: 0.0, 2: 0.0, 3: 0.0, 4: 0.0, 5: 0.0, 6: 0.0, 7: 0.0, 8: 0.0, 9: 0.0, 10: 0.0, 11: 0.0, 12: 0.0, 13: 0.0, 14: 0.0, 15: 0.0, 16: 0.0, 17: 0.0, 18: 0.0, 19: 0.0, 20: 0.0, 21: 0.0, 22: 0.0, 23: 0.0, 24: 0.0, 25: 0.0, 26: 0.0, 27: 0.0, 28: 0.0, 29: 0.0}, 'PEM_electrolyzer': {0: 8680000.0, 1: 8680000.0, 2: 8680000.0, 3: 8680000.0, 4: 8680000.0, 5: 8680000.0, 6: 8680000.0, 7: 8680000.0, 8: 8680000.0, 9: 8680000.0, 10: 8680000.0, 11: 8680000.0, 12: 8680000.0, 13: 8680000.0, 14: 8680000.0, 15: 8680000.0, 16: 8680000.0, 17: 8680000.0, 18: 8680000.0, 19: 8680000.0, 20: 8680000.0, 21: 8680000.0, 22: 8680000.0, 23: 8680000.0, 24: 8680000.0, 25: 8680000.0, 26: 8680000.0, 27: 8680000.0, 28: 8680000.0, 29: 8680000.0}, 'alkaline_electrolyzer': {0: 0.0, 1: 0.0, 2: 0.0, 3: 0.0, 4: 0.0, 5: 0.0, 6: 0.0, 7: 0.0, 8: 0.0, 9: 0.0, 10: 0.0, 11: 0.0, 12: 0.0, 13: 0.0, 14: 0.0, 15: 0.0, 16: 0.0, 17: 0.0, 18: 0.0, 19: 0.0, 20: 0.0, 21: 0.0, 22: 0.0, 23: 0.0, 24: 0.0, 25: 0.0, 26: 0.0, 27: 0.0, 28: 0.0, 29: 0.0}, 'FT_synthesis': {0: 0.0, 1: 0.0, 2: 0.0, 3: 0.0, 4: 0.0, 5: 0.0, 6: 0.0, 7: 0.0, 8: 0.0, 9: 0.0, 10: 0.0, 11: 0.0, 12: 0.0, 13: 0.0, 14: 0.0, 15: 0.0, 16: 0.0, 17: 0.0, 18: 0.0, 19: 0.0, 20: 0.0, 21: 0.0, 22: 0.0, 23: 0.0, 24: 0.0, 25: 0.0, 26: 0.0, 27: 0.0, 28: 0.0, 29: 0.0}, 'ammonia_synthesis': {0: 70000000.0, 1: 70000000.0, 2: 70000000.0, 3: 70000000.0, 4: 70000000.0, 5: 70000000.0, 6: 70000000.0, 7: 70000000.0, 8: 70000000.0, 9: 70000000.0, 10: 70000000.0, 11: 70000000.0, 12: 70000000.0, 13: 70000000.0, 14: 70000000.0, 15: 70000000.0, 16: 70000000.0, 17: 70000000.0, 18: 70000000.0, 19: 70000000.0, 20: 70000000.0, 21: 70000000.0, 22: 70000000.0, 23: 70000000.0, 24: 70000000.0, 25: 70000000.0, 26: 70000000.0, 27: 70000000.0, 28: 70000000.0, 29: 70000000.0}, 'ammonia_splitting': {0: 0.0, 1: 0.0, 2: 0.0, 3: 0.0, 4: 0.0, 5: 0.0, 6: 0.0, 7: 0.0, 8: 0.0, 9: 0.0, 10: 0.0, 11: 0.0, 12: 0.0, 13: 0.0, 14: 0.0, 15: 0.0, 16: 0.0, 17: 0.0, 18: 0.0, 19: 0.0, 20: 0.0, 21: 0.0, 22: 0.0, 23: 0.0, 24: 0.0, 25: 0.0, 26: 0.0, 27: 0.0, 28: 0.0, 29: 0.0}, 'battery': {0: 0, 1: 0, 2: 0, 3: 0, 4: 0, 5: 0, 6: 0, 7: 0, 8: 0, 9: 0, 10: 0, 11: 0, 12: 0, 13: 0, 14: 0, 15: 0, 16: 0, 17: 0, 18: 0, 19: 0, 20: 0, 21: 0, 22: 0, 23: 0, 24: 0, 25: 0, 26: 0, 27: 0, 28: 0, 29: 0}}\n",
      "{'hydrogen': {0: 0.0, 1: 0.0, 2: 0.0, 3: 0.0, 4: 0.0, 5: 0.0, 6: 0.0, 7: 0.0, 8: 0.0, 9: 0.0, 10: 0.0, 11: 0.0, 12: 0.0, 13: 0.0, 14: 0.0, 15: 0.0, 16: 0.0, 17: 0.0, 18: 0.0, 19: 0.0, 20: 0.0, 21: 0.0, 22: 0.0, 23: 0.0, 24: 0.0, 25: 0.0, 26: 0.0, 27: 0.0, 28: 0.0, 29: 0.0}, 'ammonia': {0: 17065714.285714287, 1: 17065714.285714287, 2: 17065714.285714287, 3: 17065714.285714287, 4: 17065714.285714287, 5: 17065714.285714287, 6: 17065714.285714287, 7: 17065714.285714287, 8: 17065714.285714287, 9: 17065714.285714287, 10: 17065714.285714287, 11: 17065714.285714287, 12: 17065714.285714287, 13: 17065714.285714287, 14: 17065714.285714287, 15: 17065714.285714287, 16: 17065714.285714287, 17: 17065714.285714287, 18: 17065714.285714287, 19: 17065714.285714287, 20: 17065714.285714287, 21: 17065714.285714287, 22: 17065714.285714287, 23: 17065714.285714287, 24: 17065714.285714287, 25: 17065714.285714287, 26: 17065714.285714287, 27: 17065714.285714287, 28: 17065714.285714287, 29: 17065714.285714287}, 'jetfuel': {0: 0, 1: 0, 2: 0, 3: 0, 4: 0, 5: 0, 6: 0, 7: 0, 8: 0, 9: 0, 10: 0, 11: 0, 12: 0, 13: 0, 14: 0, 15: 0, 16: 0, 17: 0, 18: 0, 19: 0, 20: 0, 21: 0, 22: 0, 23: 0, 24: 0, 25: 0, 26: 0, 27: 0, 28: 0, 29: 0}}\n"
     ]
    }
   ],
   "source": [
    "# Compute transportedd amounts in GWh\n",
    "transported_product = {\n",
    "    'ammonia':  [y['Customer_2_Chemical_Plant'][t-1] * x_transport['ammonia'] + (y['Customer_1_Steel_Plant'][t-1] / 0.7) * x['ammonia_splitting'] + (y['Customer_3_Airport'][t-1] / (0.7*0.75*0.71)) * x['ammonia_splitting']for t in time_horizon], \n",
    "    'jetfuel': [y['Customer_3_Airport'][t-1] * x_transport['jetfuel'] for t in time_horizon],\n",
    "    'hydrogen': [y['Customer_1_Steel_Plant'][t-1] * x_transport['hydrogen'] + y['Customer_2_Chemical_Plant'][t-1] * (1- x_transport['ammonia']) / 0.8 + y['Customer_3_Airport'][t-1] * (1- x_transport['jetfuel']) / (0.71 * 0.75)  for t in time_horizon]\n",
    "    #'hydrogen': [y['Customer_1_Steel_Plant'][t-1] * x_ammoniak_splitting / efficiency_ammoniak_splitting + [y['Customer_1_Steel_Plant'][t-1] * x_transport['hydrogen'] + y['Customer_2_Chemical_Plant'][t-1] * (1- x_transport['ammonia']) / 0.8 + y['Customer_3_Airport'][t-1] * (1- x_transport['jetfuel']) / (0.71 * 0.75)  for t in time_horizon]\n",
    "\n",
    "}\n",
    "\n",
    "technologies = ['photovoltaic', 'wind', 'PEM_electrolyzer', 'alkaline_electrolyzer', 'FT_synthesis', 'ammonia_synthesis','ammonia_splitting','battery']\n",
    "products = ['hydrogen', 'ammonia', 'jetfuel']\n",
    "\n",
    "\n",
    "cash_inflow_customer = {}\n",
    "\n",
    "for c in customers:\n",
    "    cash_inflow_customer[c] = {}\n",
    "    for t in time_horizon:\n",
    "        if c == 'Customer_1_Steel_Plant':\n",
    "            cash_inflow_customer[c][t-1] = price_per_unit['hydrogen'] * y[c][t-1]\n",
    "        elif c == 'Customer_2_Chemical_Plant':\n",
    "            cash_inflow_customer[c][t-1] = price_per_unit['ammonia'] * y[c][t-1]\n",
    "        elif c == 'Customer_3_Airport':\n",
    "            cash_inflow_customer[c][t-1] = price_per_unit['jetfuel'] * y[c][t-1]\n",
    "        \n",
    "\n",
    "print(cash_inflow_customer)\n",
    "\n",
    "# Initial Investment\n",
    "init_investment = sum(capex[i] * capacity[i] for i in technologies)\n",
    "print('initial investment: ' + str(init_investment))\n",
    "\n",
    "# Cash Inflow customer\n",
    "cash_inflow = {}\n",
    "for t in time_horizon:\n",
    "    cash_inflow[t-1] = sum(cash_inflow_customer[c][t-1] for c in customers for t in time_horizon)\n",
    "\n",
    "print(cash_inflow)\n",
    "\n",
    "cash_outflow_CO2 = {}\n",
    "\n",
    "for t in time_horizon:\n",
    "    cash_outflow_CO2 [t-1] = CO2_demand_per_unit_jetfuel * point_source_costs * y['Customer_3_Airport'][t-1]\n",
    "\n",
    "print(cash_outflow_CO2)\n",
    "\n",
    "cash_outflow_technology = {}\n",
    "\n",
    "for i in technologies:\n",
    "    cash_outflow_technology[i] = {}\n",
    "    for t in time_horizon:\n",
    "        cash_outflow_technology[i][t-1] = opex[i]  * capacity[i]\n",
    "\n",
    "print(cash_outflow_technology)\n",
    "\n",
    "cash_outflow_transport = {}\n",
    "for i in products:\n",
    "    cash_outflow_transport[i] = {}\n",
    "    for t in time_horizon:\n",
    "        cash_outflow_transport[i][t-1] = transported_product[i][t-1] * transport_costs[i]\n",
    "\n",
    "print(cash_outflow_transport)\n",
    "\n",
    "cash_outflow = {}\n",
    "for t in time_horizon:\n",
    "    cash_outflow[t-1] = sum(cash_outflow_technology[i][t-1] for i in technologies) + sum(cash_outflow_transport[i][t-1] for i in products) + cash_outflow_CO2[t-1]"
   ]
  },
  {
   "cell_type": "code",
   "execution_count": 28,
   "metadata": {},
   "outputs": [
    {
     "name": "stdout",
     "output_type": "stream",
     "text": [
      "77483950035.6655\n"
     ]
    }
   ],
   "source": [
    "i = 0.1\n",
    "\n",
    "NPV = - init_investment + sum(\n",
    "    ( cash_inflow[t - 1]\n",
    "    - cash_outflow[t - 1]\n",
    "    ) \n",
    "    / ((1 + i) ** t)\n",
    "    for t in time_horizon\n",
    ")\n",
    "\n",
    "print(NPV)\n",
    "\n",
    "#ROI = ... / ...\n",
    "#print(ROI)\n",
    "\n",
    "#amortization = ...\n",
    "#print(amortization)\n",
    "\n"
   ]
  }
 ],
 "metadata": {
  "kernelspec": {
   "display_name": "base",
   "language": "python",
   "name": "python3"
  },
  "language_info": {
   "codemirror_mode": {
    "name": "ipython",
    "version": 3
   },
   "file_extension": ".py",
   "mimetype": "text/x-python",
   "name": "python",
   "nbconvert_exporter": "python",
   "pygments_lexer": "ipython3",
   "version": "3.9.13"
  },
  "orig_nbformat": 4
 },
 "nbformat": 4,
 "nbformat_minor": 2
}
