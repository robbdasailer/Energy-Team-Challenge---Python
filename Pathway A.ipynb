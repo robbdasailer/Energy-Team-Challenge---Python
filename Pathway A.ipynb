{
 "cells": [
  {
   "attachments": {},
   "cell_type": "markdown",
   "metadata": {},
   "source": [
    "# Pathway A"
   ]
  },
  {
   "attachments": {},
   "cell_type": "markdown",
   "metadata": {},
   "source": [
    "## Overall units:\n",
    "   energy: GWh | capacity: GW | area: km^2 | money: €"
   ]
  },
  {
   "attachments": {},
   "cell_type": "markdown",
   "metadata": {},
   "source": [
    "## Assumptions from task description"
   ]
  },
  {
   "cell_type": "code",
   "execution_count": 1,
   "metadata": {},
   "outputs": [],
   "source": [
    "# Define customers\n",
    "customers = ['Customer_1_Steel_Plant', 'Customer_2_Chemical_Plant', 'Customer_3_Airport']\n",
    "\n",
    "# Define time horizon\n",
    "time_horizon = range(1, 11)  # Time periods from 1 to 10\n",
    "\n",
    "# Define selling prices\n",
    "price_per_unit = {\n",
    "    'hydrogen': 210000,\n",
    "    'ammonia': 287004,\n",
    "    'jetfuel': 315000,\n",
    "}\n",
    "\n",
    "# Define typical capacity per unit area in GW/km^2\n",
    "capacity_per_unit = {\n",
    "    'photovoltaic': 20,\n",
    "    'wind': 30,\n",
    "}\n",
    "\n",
    "capex = {\n",
    "    'photovoltaic': 650 * 10 ** 6,\n",
    "    'wind': 1500 * 10 ** 6,\n",
    "    'PEM_electrolyzer': 700 * 10 ** 6,\n",
    "    'alkaline_electrolyzer': 650 * 10 ** 6,\n",
    "    'FT_synthesis': 1200 * 10 ** 6,\n",
    "    'ammonia_synthesis': 1400 * 10 ** 6\n",
    "}\n",
    "\n",
    "opex = {\n",
    "    'photovoltaic': 0.03 * capex['photovoltaic'],\n",
    "    'wind': 0.04 * capex['wind'],\n",
    "    'PEM_electrolyzer': 0.04 * capex['PEM_electrolyzer'],\n",
    "    'alkaline_electrolyzer': 0.04 * capex['alkaline_electrolyzer'],\n",
    "    'FT_synthesis': 0.05 * capex['FT_synthesis'],\n",
    "    'ammonia_synthesis': 0.05 * capex['ammonia_synthesis'],\n",
    "}\n",
    "\n",
    "transport_costs = {\n",
    "    'hydrogen': 20 * 10**3, \n",
    "    'ammonia': 10 * 10**3,\n",
    "    'jetfuel': 5 * 10**3,\n",
    "}\n",
    "\n",
    "# Define the CO2 point source availabilty in tCO2 /a\n",
    "m = - 150000 / (2050-2023)\n",
    "b = 150000 \n",
    "\n",
    "point_source_availability = {}\n",
    "for t in time_horizon:\n",
    "    point_source_availability[t-1] = m*(t-1) + b\n",
    "    if t > 27:\n",
    "        point_source_availability[t-1] = 0"
   ]
  },
  {
   "attachments": {},
   "cell_type": "markdown",
   "metadata": {},
   "source": [
    "## Our own assumptions"
   ]
  },
  {
   "cell_type": "code",
   "execution_count": 2,
   "metadata": {},
   "outputs": [
    {
     "name": "stdout",
     "output_type": "stream",
     "text": [
      "{'Customer_1_Steel_Plant': {0: 1000, 1: 1000, 2: 1000, 3: 1000, 4: 1000, 5: 1000, 6: 1000, 7: 1000, 8: 1000, 9: 1000}, 'Customer_2_Chemical_Plant': {0: 500, 1: 500, 2: 500, 3: 500, 4: 500, 5: 500, 6: 500, 7: 500, 8: 500, 9: 500}, 'Customer_3_Airport': {0: 500, 1: 500, 2: 500, 3: 500, 4: 500, 5: 500, 6: 500, 7: 500, 8: 500, 9: 500}}\n"
     ]
    }
   ],
   "source": [
    "# Decision variables\n",
    "x = {\n",
    "    'photovoltaic': 1,              # Do you want to use PV..\n",
    "    'wind': 0,                      # or do you want to use wind?\n",
    "    'PEM_electrolyzer': 1,          # Do you want to use PEM..\n",
    "    'alkaline_electrolyzer': 0,     # or do you want to use Alkaline?\n",
    "    'FT_synthesis': 1,\n",
    "    'ammonia_synthesis': 1,\n",
    "    }\n",
    "\n",
    "x_transport = {\n",
    "    'hydrogen': 1,                  # Do you want to produce hydrogen in morocco?\n",
    "    'ammonia': 1,                   # Do you want to produce ammonia in morocco?\n",
    "    'jetfuel': 1                    # Do you want to produce jetfuel in morocco?\n",
    "}\n",
    "\n",
    "# Define supply to customers\n",
    "y = {}\n",
    "y['Customer_1_Steel_Plant'] = {}\n",
    "y['Customer_2_Chemical_Plant'] = {}\n",
    "y['Customer_3_Airport'] = {}\n",
    "\n",
    "for t in time_horizon:\n",
    "    y['Customer_1_Steel_Plant'][t-1] = 1000\n",
    "    y['Customer_2_Chemical_Plant'][t-1] = 500\n",
    "    y['Customer_3_Airport'][t-1] = 500\n",
    "\n",
    "# Define the size of technologies in GW\n",
    "capacity = {\n",
    "    'photovoltaic': 1,\n",
    "    'wind': 0,\n",
    "    'PEM_electrolyzer': 1,\n",
    "    'alkaline_electrolyzer': 0,\n",
    "    'FT_synthesis': 1,\n",
    "    'ammonia_synthesis': 1,\n",
    "}\n",
    "\n",
    "# Discount rate\n",
    "i = 0.1\n",
    "\n",
    "print(y)"
   ]
  },
  {
   "attachments": {},
   "cell_type": "markdown",
   "metadata": {},
   "source": [
    "### Assumption Check"
   ]
  },
  {
   "cell_type": "code",
   "execution_count": 3,
   "metadata": {},
   "outputs": [],
   "source": [
    "if(x['wind'] + x['photovoltaic']) > 1: print('Caution, both wind and PV selected')\n",
    "if(x['PEM_electrolyzer'] + x['alkaline_electrolyzer']) > 1: print('Caution, both PEM and alkaline electrolyzers selected')\n",
    "if y['Customer_1_Steel_Plant'][t-1] > 0 and x_transport['hydrogen'] < 1: print('Caution, is hydrogen split in rotterdam?')\n",
    "if y['Customer_2_Chemical_Plant'][t-1] > 0 and x_transport['ammonia'] < 1: print('Ammonia is split in rotterdam?')\n",
    "if y['Customer_3_Airport'][t-1] > 0 and x_transport['jetfuel'] < 1: print('Jet Fuel is split in rotterdam?')\n"
   ]
  },
  {
   "attachments": {},
   "cell_type": "markdown",
   "metadata": {},
   "source": [
    "## Let's start the NPV calculation"
   ]
  },
  {
   "cell_type": "code",
   "execution_count": 4,
   "metadata": {},
   "outputs": [
    {
     "name": "stdout",
     "output_type": "stream",
     "text": [
      "{'Customer_1_Steel_Plant': {0: 210000000, 1: 210000000, 2: 210000000, 3: 210000000, 4: 210000000, 5: 210000000, 6: 210000000, 7: 210000000, 8: 210000000, 9: 210000000}, 'Customer_2_Chemical_Plant': {0: 105000000, 1: 105000000, 2: 105000000, 3: 105000000, 4: 105000000, 5: 105000000, 6: 105000000, 7: 105000000, 8: 105000000, 9: 105000000}, 'Customer_3_Airport': {0: 105000000, 1: 105000000, 2: 105000000, 3: 105000000, 4: 105000000, 5: 105000000, 6: 105000000, 7: 105000000, 8: 105000000, 9: 105000000}}\n",
      "3950000000\n",
      "{0: 4200000000, 1: 4200000000, 2: 4200000000, 3: 4200000000, 4: 4200000000, 5: 4200000000, 6: 4200000000, 7: 4200000000, 8: 4200000000, 9: 4200000000}\n",
      "{'photovoltaic': {0: 19500000.0, 1: 19500000.0, 2: 19500000.0, 3: 19500000.0, 4: 19500000.0, 5: 19500000.0, 6: 19500000.0, 7: 19500000.0, 8: 19500000.0, 9: 19500000.0}, 'wind': {0: 0.0, 1: 0.0, 2: 0.0, 3: 0.0, 4: 0.0, 5: 0.0, 6: 0.0, 7: 0.0, 8: 0.0, 9: 0.0}, 'PEM_electrolyzer': {0: 28000000.0, 1: 28000000.0, 2: 28000000.0, 3: 28000000.0, 4: 28000000.0, 5: 28000000.0, 6: 28000000.0, 7: 28000000.0, 8: 28000000.0, 9: 28000000.0}, 'alkaline_electrolyzer': {0: 0.0, 1: 0.0, 2: 0.0, 3: 0.0, 4: 0.0, 5: 0.0, 6: 0.0, 7: 0.0, 8: 0.0, 9: 0.0}, 'FT_synthesis': {0: 60000000.0, 1: 60000000.0, 2: 60000000.0, 3: 60000000.0, 4: 60000000.0, 5: 60000000.0, 6: 60000000.0, 7: 60000000.0, 8: 60000000.0, 9: 60000000.0}, 'ammonia_synthesis': {0: 70000000.0, 1: 70000000.0, 2: 70000000.0, 3: 70000000.0, 4: 70000000.0, 5: 70000000.0, 6: 70000000.0, 7: 70000000.0, 8: 70000000.0, 9: 70000000.0}}\n",
      "{'hydrogen': {0: 20000000.0, 1: 20000000.0, 2: 20000000.0, 3: 20000000.0, 4: 20000000.0, 5: 20000000.0, 6: 20000000.0, 7: 20000000.0, 8: 20000000.0, 9: 20000000.0}, 'ammonia': {0: 5000000, 1: 5000000, 2: 5000000, 3: 5000000, 4: 5000000, 5: 5000000, 6: 5000000, 7: 5000000, 8: 5000000, 9: 5000000}, 'jetfuel': {0: 2500000, 1: 2500000, 2: 2500000, 3: 2500000, 4: 2500000, 5: 2500000, 6: 2500000, 7: 2500000, 8: 2500000, 9: 2500000}}\n",
      "{0: 205000000.0, 1: 205000000.0, 2: 205000000.0, 3: 205000000.0, 4: 205000000.0, 5: 205000000.0, 6: 205000000.0, 7: 205000000.0, 8: 205000000.0, 9: 205000000.0}\n",
      "{0: 3995000000.0, 1: 3995000000.0, 2: 3995000000.0, 3: 3995000000.0, 4: 3995000000.0, 5: 3995000000.0, 6: 3995000000.0, 7: 3995000000.0, 8: 3995000000.0, 9: 3995000000.0}\n"
     ]
    }
   ],
   "source": [
    "# Compute transportedd amounts in GWh\n",
    "transported_product = {\n",
    "    'ammonia':  [y['Customer_2_Chemical_Plant'][t-1] * x_transport['ammonia'] for t in time_horizon],\n",
    "    'jetfuel': [y['Customer_3_Airport'][t-1] * x_transport['jetfuel'] for t in time_horizon],\n",
    "    'hydrogen': [y['Customer_1_Steel_Plant'][t-1] * x_transport['hydrogen'] + y['Customer_2_Chemical_Plant'][t-1] * (1- x_transport['ammonia']) / 0.8 + y['Customer_3_Airport'][t-1] * (1- x_transport['jetfuel']) / (0.71 * 0.75)  for t in time_horizon]\n",
    "}\n",
    "\n",
    "technologies = ['photovoltaic', 'wind', 'PEM_electrolyzer', 'alkaline_electrolyzer', 'FT_synthesis', 'ammonia_synthesis']\n",
    "products = ['hydrogen', 'ammonia', 'jetfuel']\n",
    "\n",
    "\n",
    "cash_inflow_customer = {}\n",
    "\n",
    "for c in customers:\n",
    "    cash_inflow_customer[c] = {}\n",
    "    for t in time_horizon:\n",
    "        cash_inflow_customer[c][t-1] = price_per_unit['hydrogen'] * y[c][t-1]\n",
    "\n",
    "print(cash_inflow_customer)\n",
    "\n",
    "# Initial Investment\n",
    "init_investment = sum(capex[i] * x[i] for i in technologies)\n",
    "print(init_investment)\n",
    "\n",
    "cash_inflow = {}\n",
    "for t in time_horizon:\n",
    "    cash_inflow[t-1] = sum(cash_inflow_customer[c][t-1] for c in customers for t in time_horizon)\n",
    "\n",
    "print(cash_inflow)\n",
    "\n",
    "cash_outflow_technology = {}\n",
    "\n",
    "for i in technologies:\n",
    "    cash_outflow_technology[i] = {}\n",
    "    for t in time_horizon:\n",
    "        cash_outflow_technology[i][t-1] = opex[i]  * capacity[i]\n",
    "\n",
    "print(cash_outflow_technology)\n",
    "\n",
    "cash_outflow_transport = {}\n",
    "for i in products:\n",
    "    cash_outflow_transport[i] = {}\n",
    "    for t in time_horizon:\n",
    "        cash_outflow_transport[i][t-1] = transported_product[i][t-1] * transport_costs[i]\n",
    "\n",
    "print(cash_outflow_transport)\n",
    "\n",
    "cash_outflow = {}\n",
    "for t in time_horizon:\n",
    "    cash_outflow[t-1] = sum(cash_outflow_technology[i][t-1] for i in technologies) + sum(cash_outflow_transport[i][t-1] for i in products)\n",
    "\n",
    "print(cash_outflow)\n",
    "\n",
    "result = {}\n",
    "for t in time_horizon:\n",
    "    result[t-1] = cash_inflow[t-1] - cash_outflow[t-1]\n",
    "\n",
    "print(result)\n"
   ]
  },
  {
   "cell_type": "code",
   "execution_count": null,
   "metadata": {},
   "outputs": [],
   "source": []
  }
 ],
 "metadata": {
  "kernelspec": {
   "display_name": "base",
   "language": "python",
   "name": "python3"
  },
  "language_info": {
   "codemirror_mode": {
    "name": "ipython",
    "version": 3
   },
   "file_extension": ".py",
   "mimetype": "text/x-python",
   "name": "python",
   "nbconvert_exporter": "python",
   "pygments_lexer": "ipython3",
   "version": "3.9.13"
  },
  "orig_nbformat": 4
 },
 "nbformat": 4,
 "nbformat_minor": 2
}
