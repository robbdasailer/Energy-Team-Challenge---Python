{
 "cells": [
  {
   "attachments": {},
   "cell_type": "markdown",
   "metadata": {},
   "source": [
    "# Pathway A"
   ]
  },
  {
   "attachments": {},
   "cell_type": "markdown",
   "metadata": {},
   "source": [
    "## Overall units:\n",
    "   energy: GWh\n",
    "   capacity: GW\n",
    "   area: km^2\n",
    "   money: €"
   ]
  },
  {
   "attachments": {},
   "cell_type": "markdown",
   "metadata": {},
   "source": [
    "## Assumptions from task description"
   ]
  },
  {
   "cell_type": "code",
   "execution_count": 15,
   "metadata": {},
   "outputs": [],
   "source": [
    "# Define customers\n",
    "customers = ['Customer_1_Steel_Plant', 'Customer_2_Chemical_Plant', 'Customer_3_Airport']\n",
    "\n",
    "# Define time horizon\n",
    "time_horizon = range(1, 11)  # Time periods from 1 to 10\n",
    "\n",
    "# Define selling prices\n",
    "price_per_unit = {\n",
    "    'hydrogen': 210000,\n",
    "    'ammonia': 287004,\n",
    "    'jetfuel': 315000,\n",
    "}\n",
    "\n",
    "# Define typical capacity per unit area in GW/km^2\n",
    "capacity_per_unit = {\n",
    "    'photovoltaic': 20,\n",
    "    'wind': 30,\n",
    "}\n",
    "\n",
    "CO2_demand_per_unit_jetfuel = 260 \n",
    "\n",
    "capex = {\n",
    "    'photovoltaic': 650 * 10 ** 6,\n",
    "    'wind': 1500 * 10 ** 6,\n",
    "    'PEM_electrolyzer': 700 * 10 ** 6,\n",
    "    'alkaline_electrolyzer': 650 * 10 ** 6,\n",
    "    'FT_synthesis': 1200 * 10 ** 6,\n",
    "    'ammonia_synthesis': 1400 * 10 ** 6,\n",
    "    'ammonia_splitting': 1000 * 10 **6,\n",
    "    'battery': 550 * 10 **6, #in €/GWh\n",
    "}\n",
    "\n",
    "opex = {\n",
    "    'photovoltaic': 0.03 * capex['photovoltaic'],\n",
    "    'wind': 0.04 * capex['wind'],\n",
    "    'PEM_electrolyzer': 0.04 * capex['PEM_electrolyzer'],\n",
    "    'alkaline_electrolyzer': 0.04 * capex['alkaline_electrolyzer'],\n",
    "    'FT_synthesis': 0.05 * capex['FT_synthesis'],\n",
    "    'ammonia_synthesis': 0.05 * capex['ammonia_synthesis'],\n",
    "    'ammonia_splitting': 0.05 * capex['ammonia_splitting'],\n",
    "    'battery': 0.01 * capex['battery'], #Zahlen einfügen\n",
    "}\n",
    "\n",
    "transport_costs = {\n",
    "    'hydrogen': 20 * 10**3, \n",
    "    'ammonia': 10 * 10**3,\n",
    "    'jetfuel': 5 * 10**3,\n",
    "}\n",
    "\n",
    "point_source_costs = 70 \n",
    "\n",
    "# Define the CO2 point source availabilty in tCO2 /a\n",
    "#m = - 150000 / (2050-2023)\n",
    "#b = 150000 \n",
    "\n",
    "#point_source_availability = {}\n",
    "#for t in time_horizon:\n",
    "    #point_source_availability[t-1] = m*(t-1) + b\n",
    "   # if t > 27:\n",
    "        #point_source_availability[t-1] = 0"
   ]
  },
  {
   "attachments": {},
   "cell_type": "markdown",
   "metadata": {},
   "source": [
    "## Our own assumptions"
   ]
  },
  {
   "cell_type": "code",
   "execution_count": 16,
   "metadata": {},
   "outputs": [
    {
     "name": "stdout",
     "output_type": "stream",
     "text": [
      "{'Customer_1_Steel_Plant': {0: 1000, 1: 1000, 2: 1000, 3: 1000, 4: 1000, 5: 1000, 6: 1000, 7: 1000, 8: 1000, 9: 1000}, 'Customer_2_Chemical_Plant': {0: 500, 1: 500, 2: 500, 3: 500, 4: 500, 5: 500, 6: 500, 7: 500, 8: 500, 9: 500}, 'Customer_3_Airport': {0: 500, 1: 500, 2: 500, 3: 500, 4: 500, 5: 500, 6: 500, 7: 500, 8: 500, 9: 500}}\n"
     ]
    }
   ],
   "source": [
    "# Decision variables\n",
    "x = {\n",
    "    'photovoltaic': 1,              # Do you want to use PV..\n",
    "    'wind': 0,                      # or do you want to use wind?\n",
    "    'PEM_electrolyzer': 1,          # Do you want to use PEM..\n",
    "    'alkaline_electrolyzer': 0,     # or do you want to use Alkaline?\n",
    "    'FT_synthesis': 1,\n",
    "    'ammonia_synthesis': 1,\n",
    "    'ammonia_splitting': 0,\n",
    "    'battery': 1,\n",
    "    }\n",
    "\n",
    "x_transport = {\n",
    "    'hydrogen': 1,                  # Do you want to produce hydrogen in morocco?\n",
    "    'ammonia': 0,                   # Do you want to produce ammonia in morocco?\n",
    "    'jetfuel': 0,                    # Do you want to produce jetfuel in morocco?\n",
    "}\n",
    "\n",
    "# Define supply to customers\n",
    "y = {}\n",
    "y['Customer_1_Steel_Plant'] = {}\n",
    "y['Customer_2_Chemical_Plant'] = {}\n",
    "y['Customer_3_Airport'] = {}\n",
    "\n",
    "for t in time_horizon:\n",
    "    y['Customer_1_Steel_Plant'][t-1] = 1000\n",
    "    y['Customer_2_Chemical_Plant'][t-1] = 500\n",
    "    y['Customer_3_Airport'][t-1] = 500\n",
    "\n",
    "# Define the size of technologies in GW\n",
    "capacity = {\n",
    "    'photovoltaic': 1,\n",
    "    'wind': 0,\n",
    "    'PEM_electrolyzer': 1,\n",
    "    'alkaline_electrolyzer': 0,\n",
    "    'FT_synthesis': 1,\n",
    "    'ammonia_synthesis': 1,\n",
    "    'ammonia_splitting':0,\n",
    "    'battery': 1, #in GWh\n",
    "}\n",
    "\n",
    "# Discount rate\n",
    "i = 0.1\n",
    "\n",
    "print(y)"
   ]
  },
  {
   "attachments": {},
   "cell_type": "markdown",
   "metadata": {},
   "source": [
    "### Assumption Check"
   ]
  },
  {
   "cell_type": "code",
   "execution_count": 17,
   "metadata": {},
   "outputs": [
    {
     "name": "stdout",
     "output_type": "stream",
     "text": [
      "Ammonia is split in rotterdam?\n",
      "Jet Fuel is split in rotterdam?\n"
     ]
    }
   ],
   "source": [
    "if(x['wind'] + x['photovoltaic']) > 1: print('Caution, both wind and PV selected')\n",
    "if(x['PEM_electrolyzer'] + x['alkaline_electrolyzer']) > 1: print('Caution, both PEM and alkaline electrolyzers selected')\n",
    "if y['Customer_1_Steel_Plant'][t-1] > 0 and x_transport['hydrogen'] < 1: print('Caution, is hydrogen split in rotterdam?')\n",
    "if y['Customer_2_Chemical_Plant'][t-1] > 0 and x_transport['ammonia'] < 1: print('Ammonia is split in rotterdam?')\n",
    "if y['Customer_3_Airport'][t-1] > 0 and x_transport['jetfuel'] < 1: print('Jet Fuel is split in rotterdam?')\n",
    "if (x['ammonia_splitting'] + x_transport['hydrogen']) > 1: print('If hydrogen is transported there is no need for ammonia splitting')"
   ]
  },
  {
   "attachments": {},
   "cell_type": "markdown",
   "metadata": {},
   "source": [
    "## Let's start the NPV calculation"
   ]
  },
  {
   "cell_type": "code",
   "execution_count": 18,
   "metadata": {},
   "outputs": [
    {
     "name": "stdout",
     "output_type": "stream",
     "text": [
      "{'Customer_1_Steel_Plant': {0: 210000000, 1: 210000000, 2: 210000000, 3: 210000000, 4: 210000000, 5: 210000000, 6: 210000000, 7: 210000000, 8: 210000000, 9: 210000000}, 'Customer_2_Chemical_Plant': {0: 143502000, 1: 143502000, 2: 143502000, 3: 143502000, 4: 143502000, 5: 143502000, 6: 143502000, 7: 143502000, 8: 143502000, 9: 143502000}, 'Customer_3_Airport': {0: 157500000, 1: 157500000, 2: 157500000, 3: 157500000, 4: 157500000, 5: 157500000, 6: 157500000, 7: 157500000, 8: 157500000, 9: 157500000}}\n",
      "{'photovoltaic': 650000000, 'wind': 0, 'PEM_electrolyzer': 700000000, 'alkaline_electrolyzer': 0, 'FT_synthesis': 1200000000, 'ammonia_synthesis': 1400000000, 'ammonia_splitting': 0, 'battery': 550000000}\n",
      "4500000000\n",
      "{0: 5110020000, 1: 5110020000, 2: 5110020000, 3: 5110020000, 4: 5110020000, 5: 5110020000, 6: 5110020000, 7: 5110020000, 8: 5110020000, 9: 5110020000}\n",
      "{0: 9100000, 1: 9100000, 2: 9100000, 3: 9100000, 4: 9100000, 5: 9100000, 6: 9100000, 7: 9100000, 8: 9100000, 9: 9100000}\n",
      "{'photovoltaic': {0: 19500000.0, 1: 19500000.0, 2: 19500000.0, 3: 19500000.0, 4: 19500000.0, 5: 19500000.0, 6: 19500000.0, 7: 19500000.0, 8: 19500000.0, 9: 19500000.0}, 'wind': {0: 0.0, 1: 0.0, 2: 0.0, 3: 0.0, 4: 0.0, 5: 0.0, 6: 0.0, 7: 0.0, 8: 0.0, 9: 0.0}, 'PEM_electrolyzer': {0: 28000000.0, 1: 28000000.0, 2: 28000000.0, 3: 28000000.0, 4: 28000000.0, 5: 28000000.0, 6: 28000000.0, 7: 28000000.0, 8: 28000000.0, 9: 28000000.0}, 'alkaline_electrolyzer': {0: 0.0, 1: 0.0, 2: 0.0, 3: 0.0, 4: 0.0, 5: 0.0, 6: 0.0, 7: 0.0, 8: 0.0, 9: 0.0}, 'FT_synthesis': {0: 60000000.0, 1: 60000000.0, 2: 60000000.0, 3: 60000000.0, 4: 60000000.0, 5: 60000000.0, 6: 60000000.0, 7: 60000000.0, 8: 60000000.0, 9: 60000000.0}, 'ammonia_synthesis': {0: 70000000.0, 1: 70000000.0, 2: 70000000.0, 3: 70000000.0, 4: 70000000.0, 5: 70000000.0, 6: 70000000.0, 7: 70000000.0, 8: 70000000.0, 9: 70000000.0}, 'ammonia_splitting': {0: 0.0, 1: 0.0, 2: 0.0, 3: 0.0, 4: 0.0, 5: 0.0, 6: 0.0, 7: 0.0, 8: 0.0, 9: 0.0}, 'battery': {0: 5500000.0, 1: 5500000.0, 2: 5500000.0, 3: 5500000.0, 4: 5500000.0, 5: 5500000.0, 6: 5500000.0, 7: 5500000.0, 8: 5500000.0, 9: 5500000.0}}\n",
      "{'hydrogen': {0: 51279342.72300469, 1: 51279342.72300469, 2: 51279342.72300469, 3: 51279342.72300469, 4: 51279342.72300469, 5: 51279342.72300469, 6: 51279342.72300469, 7: 51279342.72300469, 8: 51279342.72300469, 9: 51279342.72300469}, 'ammonia': {0: 0.0, 1: 0.0, 2: 0.0, 3: 0.0, 4: 0.0, 5: 0.0, 6: 0.0, 7: 0.0, 8: 0.0, 9: 0.0}, 'jetfuel': {0: 0, 1: 0, 2: 0, 3: 0, 4: 0, 5: 0, 6: 0, 7: 0, 8: 0, 9: 0}}\n"
     ]
    }
   ],
   "source": [
    "# Compute transportedd amounts in GWh\n",
    "transported_product = {\n",
    "    'ammonia':  [y['Customer_2_Chemical_Plant'][t-1] * x_transport['ammonia'] + (y['Customer_1_Steel_Plant'][t-1] / 0.7) * x['ammonia_splitting'] + (y['Customer_3_Airport'][t-1] / (0.7*0.75*0.71)) * x['ammonia_splitting']for t in time_horizon], \n",
    "    'jetfuel': [y['Customer_3_Airport'][t-1] * x_transport['jetfuel'] for t in time_horizon],\n",
    "    'hydrogen': [y['Customer_1_Steel_Plant'][t-1] * x_transport['hydrogen'] + y['Customer_2_Chemical_Plant'][t-1] * (1- x_transport['ammonia']) / 0.8 + y['Customer_3_Airport'][t-1] * (1- x_transport['jetfuel']) / (0.71 * 0.75)  for t in time_horizon]\n",
    "    #'hydrogen': [y['Customer_1_Steel_Plant'][t-1] * x_ammoniak_splitting / efficiency_ammoniak_splitting + [y['Customer_1_Steel_Plant'][t-1] * x_transport['hydrogen'] + y['Customer_2_Chemical_Plant'][t-1] * (1- x_transport['ammonia']) / 0.8 + y['Customer_3_Airport'][t-1] * (1- x_transport['jetfuel']) / (0.71 * 0.75)  for t in time_horizon]\n",
    "\n",
    "}\n",
    "\n",
    "technologies = ['photovoltaic', 'wind', 'PEM_electrolyzer', 'alkaline_electrolyzer', 'FT_synthesis', 'ammonia_synthesis','ammonia_splitting','battery']\n",
    "products = ['hydrogen', 'ammonia', 'jetfuel']\n",
    "\n",
    "\n",
    "cash_inflow_customer = {}\n",
    "\n",
    "for c in customers:\n",
    "    cash_inflow_customer[c] = {}\n",
    "    for t in time_horizon:\n",
    "        if c == 'Customer_1_Steel_Plant':\n",
    "            cash_inflow_customer[c][t-1] = price_per_unit['hydrogen'] * y[c][t-1]\n",
    "        elif c == 'Customer_2_Chemical_Plant':\n",
    "            cash_inflow_customer[c][t-1] = price_per_unit['ammonia'] * y[c][t-1]\n",
    "        elif c == 'Customer_3_Airport':\n",
    "            cash_inflow_customer[c][t-1] = price_per_unit['jetfuel'] * y[c][t-1]\n",
    "        \n",
    "\n",
    "print(cash_inflow_customer)\n",
    "\n",
    "# Initial Investment\n",
    "#init_investment = sum(capex[i] * x[i] for i in technologies) ist doch auch auf die Kapazität bezogen\n",
    "init_investment_tech = {}\n",
    "\n",
    "for i in technologies:\n",
    "    init_investment_tech[i] = capex[i] * capacity[i] \n",
    "\n",
    "print(init_investment_tech)\n",
    "\n",
    "init_investment = sum(init_investment_tech[i] for i in technologies)\n",
    "\n",
    "print(init_investment)\n",
    "\n",
    "cash_inflow = {}\n",
    "for t in time_horizon:\n",
    "    cash_inflow[t-1] = sum(cash_inflow_customer[c][t-1] for c in customers for t in time_horizon)\n",
    "\n",
    "print(cash_inflow)\n",
    "\n",
    "#Robert angucken kann ich y['Customer_3_Airport'] so verwenden oder wie greife ich darauf zu?\n",
    "cash_outflow_CO2 = {}\n",
    "\n",
    "for t in time_horizon:\n",
    "    cash_outflow_CO2 [t-1] = CO2_demand_per_unit_jetfuel * point_source_costs * y['Customer_3_Airport'][t-1]\n",
    "\n",
    "print(cash_outflow_CO2)\n",
    "\n",
    "cash_outflow_technology = {}\n",
    "\n",
    "for i in technologies:\n",
    "    cash_outflow_technology[i] = {}\n",
    "    for t in time_horizon:\n",
    "        cash_outflow_technology[i][t-1] = opex[i]  * capacity[i]\n",
    "\n",
    "print(cash_outflow_technology)\n",
    "\n",
    "cash_outflow_transport = {}\n",
    "for i in products:\n",
    "    cash_outflow_transport[i] = {}\n",
    "    for t in time_horizon:\n",
    "        cash_outflow_transport[i][t-1] = transported_product[i][t-1] * transport_costs[i]\n",
    "\n",
    "print(cash_outflow_transport)\n",
    "\n",
    "cash_outflow = {}\n",
    "for t in time_horizon:\n",
    "    cash_outflow[t-1] = sum(cash_outflow_technology[i][t-1] for i in technologies) + sum(cash_outflow_transport[i][t-1] for i in products) + cash_outflow_CO2[t-1]"
   ]
  },
  {
   "cell_type": "code",
   "execution_count": 19,
   "metadata": {},
   "outputs": [
    {
     "name": "stdout",
     "output_type": "stream",
     "text": [
      "25403400097.98923\n"
     ]
    }
   ],
   "source": [
    "i = 0.1\n",
    "\n",
    "NPV = - init_investment + sum(\n",
    "    ( cash_inflow[t - 1]\n",
    "    - cash_outflow[t - 1]\n",
    "    ) \n",
    "    / ((1 + i) ** t)\n",
    "    for t in time_horizon\n",
    ")\n",
    "\n",
    "print(NPV)\n",
    "\n",
    "#ROI = ... / ...\n",
    "#print(ROI)\n",
    "\n",
    "#amortization = ...\n",
    "#print(amortization)\n",
    "\n"
   ]
  }
 ],
 "metadata": {
  "kernelspec": {
   "display_name": "base",
   "language": "python",
   "name": "python3"
  },
  "language_info": {
   "codemirror_mode": {
    "name": "ipython",
    "version": 3
   },
   "file_extension": ".py",
   "mimetype": "text/x-python",
   "name": "python",
   "nbconvert_exporter": "python",
   "pygments_lexer": "ipython3",
   "version": "3.9.13"
  },
  "orig_nbformat": 4
 },
 "nbformat": 4,
 "nbformat_minor": 2
}
