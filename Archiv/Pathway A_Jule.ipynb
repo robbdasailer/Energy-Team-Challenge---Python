{
 "cells": [
  {
   "attachments": {},
   "cell_type": "markdown",
   "metadata": {},
   "source": [
    "# Pathway A"
   ]
  },
  {
   "attachments": {},
   "cell_type": "markdown",
   "metadata": {},
   "source": [
    "## Overall units:\n",
    "   energy: GWh\n",
    "   capacity: GW\n",
    "   area: km^2\n",
    "   money: €"
   ]
  },
  {
   "attachments": {},
   "cell_type": "markdown",
   "metadata": {},
   "source": [
    "## Assumptions from task description"
   ]
  },
  {
   "cell_type": "code",
   "execution_count": 23,
   "metadata": {},
   "outputs": [
    {
     "name": "stdout",
     "output_type": "stream",
     "text": [
      "1\n",
      "2\n",
      "3\n",
      "4\n",
      "5\n",
      "6\n",
      "7\n",
      "8\n",
      "9\n",
      "10\n",
      "11\n",
      "12\n",
      "13\n",
      "14\n",
      "15\n",
      "16\n",
      "17\n",
      "18\n",
      "19\n",
      "20\n",
      "21\n",
      "22\n",
      "23\n",
      "24\n",
      "25\n",
      "26\n",
      "27\n",
      "28\n",
      "29\n",
      "30\n"
     ]
    }
   ],
   "source": [
    "# Define customers\n",
    "customers = ['Customer_1_Steel_Plant', 'Customer_2_Chemical_Plant', 'Customer_3_Airport']\n",
    "\n",
    "# Define time horizon\n",
    "time_horizon = range(1, 31)  # Time periods from 1 to 10\n",
    "for t in time_horizon:\n",
    "    print(t)\n",
    "# Define selling prices\n",
    "price_per_unit = {\n",
    "    'hydrogen': 210000,\n",
    "    'ammonia': 287004,\n",
    "    'jetfuel': 315000,\n",
    "}\n",
    "\n",
    "# Define typical capacity per unit area in GW/km^2\n",
    "capacity_per_unit = {\n",
    "    'photovoltaic': 20,\n",
    "    'wind': 30,\n",
    "}\n",
    "\n",
    "# CO2 demand for 1GWh of jetfuel in tons/GWh\n",
    "CO2_demand_per_unit_jetfuel = 260 \n",
    "\n",
    "capex = {\n",
    "    'photovoltaic': 650 * 10 ** 6,\n",
    "    'wind': 1500 * 10 ** 6,\n",
    "    'PEM_electrolyzer': 700 * 10 ** 6,\n",
    "    'alkaline_electrolyzer': 650 * 10 ** 6,\n",
    "    'FT_synthesis': 1200 * 10 ** 6,\n",
    "    'ammonia_synthesis': 1400 * 10 ** 6,\n",
    "    'ammonia_splitting': 1000 * 10 **6,\n",
    "    'battery': 250 * 10 **6, #in €/GWh\n",
    "}\n",
    "\n",
    "opex = {\n",
    "    'photovoltaic': 0.03 * capex['photovoltaic'],\n",
    "    'wind': 0.04 * capex['wind'],\n",
    "    'PEM_electrolyzer': 0.04 * capex['PEM_electrolyzer'],\n",
    "    'alkaline_electrolyzer': 0.04 * capex['alkaline_electrolyzer'],\n",
    "    'FT_synthesis': 0.05 * capex['FT_synthesis'],\n",
    "    'ammonia_synthesis': 0.05 * capex['ammonia_synthesis'],\n",
    "    'ammonia_splitting': 0.05 * capex['ammonia_splitting'],\n",
    "    'battery': 0 * capex['battery'], #Zahlen einfügen\n",
    "}\n",
    "\n",
    "# Transport costs in €/GWh\n",
    "transport_costs = {\n",
    "    'hydrogen': 20 * 10**3, \n",
    "    'ammonia': 10 * 10**3,\n",
    "    'jetfuel': 5 * 10**3,\n",
    "}\n",
    "\n",
    "# CO2-capturing costs in €/ton\n",
    "point_source_costs = 70 \n",
    "\n",
    "# Define the CO2 point source availabilty in tCO2 /a\n",
    "#m = - 150000 / (2050-2023)\n",
    "#b = 150000 \n",
    "\n",
    "#point_source_availability = {}\n",
    "#for t in time_horizon:\n",
    "    #point_source_availability[t-1] = m*(t-1) + b\n",
    "   # if t > 27:\n",
    "        #point_source_availability[t-1] = 0"
   ]
  },
  {
   "attachments": {},
   "cell_type": "markdown",
   "metadata": {},
   "source": [
    "## Our own assumptions"
   ]
  },
  {
   "cell_type": "code",
   "execution_count": 24,
   "metadata": {},
   "outputs": [
    {
     "name": "stdout",
     "output_type": "stream",
     "text": [
      "{'Customer_1_Steel_Plant': {0: 1000, 1: 1000, 2: 1000, 3: 1000, 4: 1000, 5: 1000, 6: 1000, 7: 1000, 8: 1000, 9: 1000, 10: 1000, 11: 1000, 12: 1000, 13: 1000, 14: 1000, 15: 1000, 16: 1000, 17: 1000, 18: 1000, 19: 1000, 20: 1000, 21: 1000, 22: 1000, 23: 1000, 24: 1000, 25: 1000, 26: 1000, 27: 1000, 28: 1000, 29: 1000}, 'Customer_2_Chemical_Plant': {0: (433, 33), 1: (433, 33), 2: (433, 33), 3: (433, 33), 4: (433, 33), 5: (433, 33), 6: (433, 33), 7: (433, 33), 8: (433, 33), 9: (433, 33), 10: (433, 33), 11: (433, 33), 12: (433, 33), 13: (433, 33), 14: (433, 33), 15: (433, 33), 16: (433, 33), 17: (433, 33), 18: (433, 33), 19: (433, 33), 20: (433, 33), 21: (433, 33), 22: (433, 33), 23: (433, 33), 24: (433, 33), 25: (433, 33), 26: (433, 33), 27: (433, 33), 28: (433, 33), 29: (433, 33)}, 'Customer_3_Airport': {0: 250, 1: 250, 2: 250, 3: 250, 4: 250, 5: 250, 6: 250, 7: 250, 8: 250, 9: 250, 10: 250, 11: 250, 12: 250, 13: 250, 14: 250, 15: 250, 16: 250, 17: 250, 18: 250, 19: 250, 20: 250, 21: 250, 22: 250, 23: 250, 24: 250, 25: 250, 26: 250, 27: 250, 28: 250, 29: 250}}\n"
     ]
    }
   ],
   "source": [
    "# Decision variables\n",
    "x = {\n",
    "    'photovoltaic': 1,              # Do you want to use PV..\n",
    "    'wind': 0,                      # or do you want to use wind?\n",
    "    'PEM_electrolyzer': 1,          # Do you want to use PEM..\n",
    "    'alkaline_electrolyzer': 0,     # or do you want to use Alkaline?\n",
    "    'FT_synthesis': 0,\n",
    "    'ammonia_synthesis': 1,\n",
    "    'ammonia_splitting': 1,\n",
    "    'battery': 1,\n",
    "    }\n",
    "\n",
    "x_transport = {\n",
    "    'hydrogen': 1,                  # Do you want to produce hydrogen in morocco?\n",
    "    'ammonia': 1,                   # Do you want to produce ammonia in morocco?\n",
    "    'jetfuel': 0,                    # Do you want to produce jetfuel in morocco?\n",
    "}\n",
    "\n",
    "# Define supply to customers\n",
    "y = {}\n",
    "y['Customer_1_Steel_Plant'] = {}\n",
    "y['Customer_2_Chemical_Plant'] = {}\n",
    "y['Customer_3_Airport'] = {}\n",
    "\n",
    "for t in time_horizon:\n",
    "    y['Customer_1_Steel_Plant'][t-1] = 1000\n",
    "    y['Customer_2_Chemical_Plant'][t-1] = 433,33\n",
    "    y['Customer_3_Airport'][t-1] = 250\n",
    "\n",
    "# Define the size of technologies in GW\n",
    "capacity = {\n",
    "    'photovoltaic': 0,\n",
    "    'wind': 0.57,\n",
    "    'PEM_electrolyzer': 0.33,\n",
    "    'alkaline_electrolyzer': 0,\n",
    "    'FT_synthesis': 0.03,\n",
    "    'ammonia_synthesis': 0.06,\n",
    "    'ammonia_splitting':0,\n",
    "    'battery': 1.58, #in GWh\n",
    "}\n",
    "\n",
    "# Discount rate\n",
    "i = 0.1\n",
    "\n",
    "print(y)"
   ]
  },
  {
   "attachments": {},
   "cell_type": "markdown",
   "metadata": {},
   "source": [
    "### Assumption Check"
   ]
  },
  {
   "cell_type": "code",
   "execution_count": 25,
   "metadata": {},
   "outputs": [
    {
     "ename": "TypeError",
     "evalue": "'>' not supported between instances of 'tuple' and 'int'",
     "output_type": "error",
     "traceback": [
      "\u001b[0;31m---------------------------------------------------------------------------\u001b[0m",
      "\u001b[0;31mTypeError\u001b[0m                                 Traceback (most recent call last)",
      "\u001b[0;32m/var/folders/gn/jb2kp6kn1nsclsgjb0t1shl00000gn/T/ipykernel_37677/2798996233.py\u001b[0m in \u001b[0;36m<module>\u001b[0;34m\u001b[0m\n\u001b[1;32m      2\u001b[0m \u001b[0;32mif\u001b[0m\u001b[0;34m(\u001b[0m\u001b[0mx\u001b[0m\u001b[0;34m[\u001b[0m\u001b[0;34m'PEM_electrolyzer'\u001b[0m\u001b[0;34m]\u001b[0m \u001b[0;34m+\u001b[0m \u001b[0mx\u001b[0m\u001b[0;34m[\u001b[0m\u001b[0;34m'alkaline_electrolyzer'\u001b[0m\u001b[0;34m]\u001b[0m\u001b[0;34m)\u001b[0m \u001b[0;34m>\u001b[0m \u001b[0;36m1\u001b[0m\u001b[0;34m:\u001b[0m \u001b[0mprint\u001b[0m\u001b[0;34m(\u001b[0m\u001b[0;34m'Caution, both PEM and alkaline electrolyzers selected'\u001b[0m\u001b[0;34m)\u001b[0m\u001b[0;34m\u001b[0m\u001b[0;34m\u001b[0m\u001b[0m\n\u001b[1;32m      3\u001b[0m \u001b[0;32mif\u001b[0m \u001b[0my\u001b[0m\u001b[0;34m[\u001b[0m\u001b[0;34m'Customer_1_Steel_Plant'\u001b[0m\u001b[0;34m]\u001b[0m\u001b[0;34m[\u001b[0m\u001b[0mt\u001b[0m\u001b[0;34m-\u001b[0m\u001b[0;36m1\u001b[0m\u001b[0;34m]\u001b[0m \u001b[0;34m>\u001b[0m \u001b[0;36m0\u001b[0m \u001b[0;32mand\u001b[0m \u001b[0mx_transport\u001b[0m\u001b[0;34m[\u001b[0m\u001b[0;34m'hydrogen'\u001b[0m\u001b[0;34m]\u001b[0m \u001b[0;34m<\u001b[0m \u001b[0;36m1\u001b[0m\u001b[0;34m:\u001b[0m \u001b[0mprint\u001b[0m\u001b[0;34m(\u001b[0m\u001b[0;34m'Caution, is hydrogen split in rotterdam?'\u001b[0m\u001b[0;34m)\u001b[0m\u001b[0;34m\u001b[0m\u001b[0;34m\u001b[0m\u001b[0m\n\u001b[0;32m----> 4\u001b[0;31m \u001b[0;32mif\u001b[0m \u001b[0my\u001b[0m\u001b[0;34m[\u001b[0m\u001b[0;34m'Customer_2_Chemical_Plant'\u001b[0m\u001b[0;34m]\u001b[0m\u001b[0;34m[\u001b[0m\u001b[0mt\u001b[0m\u001b[0;34m-\u001b[0m\u001b[0;36m1\u001b[0m\u001b[0;34m]\u001b[0m \u001b[0;34m>\u001b[0m \u001b[0;36m0\u001b[0m \u001b[0;32mand\u001b[0m \u001b[0mx_transport\u001b[0m\u001b[0;34m[\u001b[0m\u001b[0;34m'ammonia'\u001b[0m\u001b[0;34m]\u001b[0m \u001b[0;34m<\u001b[0m \u001b[0;36m1\u001b[0m\u001b[0;34m:\u001b[0m \u001b[0mprint\u001b[0m\u001b[0;34m(\u001b[0m\u001b[0;34m'Ammonia is split in rotterdam?'\u001b[0m\u001b[0;34m)\u001b[0m\u001b[0;34m\u001b[0m\u001b[0;34m\u001b[0m\u001b[0m\n\u001b[0m\u001b[1;32m      5\u001b[0m \u001b[0;32mif\u001b[0m \u001b[0my\u001b[0m\u001b[0;34m[\u001b[0m\u001b[0;34m'Customer_3_Airport'\u001b[0m\u001b[0;34m]\u001b[0m\u001b[0;34m[\u001b[0m\u001b[0mt\u001b[0m\u001b[0;34m-\u001b[0m\u001b[0;36m1\u001b[0m\u001b[0;34m]\u001b[0m \u001b[0;34m>\u001b[0m \u001b[0;36m0\u001b[0m \u001b[0;32mand\u001b[0m \u001b[0mx_transport\u001b[0m\u001b[0;34m[\u001b[0m\u001b[0;34m'jetfuel'\u001b[0m\u001b[0;34m]\u001b[0m \u001b[0;34m<\u001b[0m \u001b[0;36m1\u001b[0m\u001b[0;34m:\u001b[0m \u001b[0mprint\u001b[0m\u001b[0;34m(\u001b[0m\u001b[0;34m'Jet Fuel is split in rotterdam?'\u001b[0m\u001b[0;34m)\u001b[0m\u001b[0;34m\u001b[0m\u001b[0;34m\u001b[0m\u001b[0m\n\u001b[1;32m      6\u001b[0m \u001b[0;32mif\u001b[0m \u001b[0;34m(\u001b[0m\u001b[0mx\u001b[0m\u001b[0;34m[\u001b[0m\u001b[0;34m'ammonia_splitting'\u001b[0m\u001b[0;34m]\u001b[0m \u001b[0;34m+\u001b[0m \u001b[0mx_transport\u001b[0m\u001b[0;34m[\u001b[0m\u001b[0;34m'hydrogen'\u001b[0m\u001b[0;34m]\u001b[0m\u001b[0;34m)\u001b[0m \u001b[0;34m>\u001b[0m \u001b[0;36m1\u001b[0m\u001b[0;34m:\u001b[0m \u001b[0mprint\u001b[0m\u001b[0;34m(\u001b[0m\u001b[0;34m'If hydrogen is transported there is no need for ammonia splitting'\u001b[0m\u001b[0;34m)\u001b[0m\u001b[0;34m\u001b[0m\u001b[0;34m\u001b[0m\u001b[0m\n",
      "\u001b[0;31mTypeError\u001b[0m: '>' not supported between instances of 'tuple' and 'int'"
     ]
    }
   ],
   "source": [
    "if(x['wind'] + x['photovoltaic']) > 1: print('Caution, both wind and PV selected')\n",
    "if(x['PEM_electrolyzer'] + x['alkaline_electrolyzer']) > 1: print('Caution, both PEM and alkaline electrolyzers selected')\n",
    "if y['Customer_1_Steel_Plant'][t-1] > 0 and x_transport['hydrogen'] < 1: print('Caution, is hydrogen split in rotterdam?')\n",
    "if y['Customer_2_Chemical_Plant'][t-1] > 0 and x_transport['ammonia'] < 1: print('Ammonia is split in rotterdam?')\n",
    "if y['Customer_3_Airport'][t-1] > 0 and x_transport['jetfuel'] < 1: print('Jet Fuel is split in rotterdam?')\n",
    "if (x['ammonia_splitting'] + x_transport['hydrogen']) > 1: print('If hydrogen is transported there is no need for ammonia splitting')"
   ]
  },
  {
   "attachments": {},
   "cell_type": "markdown",
   "metadata": {},
   "source": [
    "## Let's start the NPV calculation"
   ]
  },
  {
   "cell_type": "code",
   "execution_count": 28,
   "metadata": {},
   "outputs": [
    {
     "ename": "TypeError",
     "evalue": "can only concatenate tuple (not \"float\") to tuple",
     "output_type": "error",
     "traceback": [
      "\u001b[0;31m---------------------------------------------------------------------------\u001b[0m",
      "\u001b[0;31mTypeError\u001b[0m                                 Traceback (most recent call last)",
      "\u001b[0;32m/var/folders/gn/jb2kp6kn1nsclsgjb0t1shl00000gn/T/ipykernel_37677/4179520503.py\u001b[0m in \u001b[0;36m<module>\u001b[0;34m\u001b[0m\n\u001b[1;32m      1\u001b[0m \u001b[0;31m# Calculate individual values before constructing the dictionary\u001b[0m\u001b[0;34m\u001b[0m\u001b[0;34m\u001b[0m\u001b[0m\n\u001b[0;32m----> 2\u001b[0;31m \u001b[0mammonia_transport\u001b[0m \u001b[0;34m=\u001b[0m \u001b[0;34m[\u001b[0m\u001b[0my\u001b[0m\u001b[0;34m[\u001b[0m\u001b[0;34m'Customer_2_Chemical_Plant'\u001b[0m\u001b[0;34m]\u001b[0m\u001b[0;34m[\u001b[0m\u001b[0mt\u001b[0m\u001b[0;34m-\u001b[0m\u001b[0;36m1\u001b[0m\u001b[0;34m]\u001b[0m \u001b[0;34m*\u001b[0m \u001b[0mx_transport\u001b[0m\u001b[0;34m[\u001b[0m\u001b[0;34m'ammonia'\u001b[0m\u001b[0;34m]\u001b[0m \u001b[0;34m+\u001b[0m \u001b[0;34m(\u001b[0m\u001b[0my\u001b[0m\u001b[0;34m[\u001b[0m\u001b[0;34m'Customer_1_Steel_Plant'\u001b[0m\u001b[0;34m]\u001b[0m\u001b[0;34m[\u001b[0m\u001b[0mt\u001b[0m\u001b[0;34m-\u001b[0m\u001b[0;36m1\u001b[0m\u001b[0;34m]\u001b[0m \u001b[0;34m/\u001b[0m \u001b[0;36m0.7\u001b[0m\u001b[0;34m)\u001b[0m \u001b[0;34m*\u001b[0m \u001b[0mx\u001b[0m\u001b[0;34m[\u001b[0m\u001b[0;34m'ammonia_splitting'\u001b[0m\u001b[0;34m]\u001b[0m \u001b[0;34m+\u001b[0m \u001b[0;34m(\u001b[0m\u001b[0my\u001b[0m\u001b[0;34m[\u001b[0m\u001b[0;34m'Customer_3_Airport'\u001b[0m\u001b[0;34m]\u001b[0m\u001b[0;34m[\u001b[0m\u001b[0mt\u001b[0m\u001b[0;34m-\u001b[0m\u001b[0;36m1\u001b[0m\u001b[0;34m]\u001b[0m \u001b[0;34m/\u001b[0m \u001b[0;34m(\u001b[0m\u001b[0;36m0.7\u001b[0m\u001b[0;34m*\u001b[0m\u001b[0;36m0.75\u001b[0m\u001b[0;34m*\u001b[0m\u001b[0;36m0.71\u001b[0m\u001b[0;34m)\u001b[0m\u001b[0;34m)\u001b[0m \u001b[0;34m*\u001b[0m \u001b[0mx\u001b[0m\u001b[0;34m[\u001b[0m\u001b[0;34m'ammonia_splitting'\u001b[0m\u001b[0;34m]\u001b[0m \u001b[0;32mfor\u001b[0m \u001b[0mt\u001b[0m \u001b[0;32min\u001b[0m \u001b[0mtime_horizon\u001b[0m\u001b[0;34m]\u001b[0m\u001b[0;34m\u001b[0m\u001b[0;34m\u001b[0m\u001b[0m\n\u001b[0m\u001b[1;32m      3\u001b[0m \u001b[0mjetfuel_transport\u001b[0m \u001b[0;34m=\u001b[0m \u001b[0;34m[\u001b[0m\u001b[0my\u001b[0m\u001b[0;34m[\u001b[0m\u001b[0;34m'Customer_3_Airport'\u001b[0m\u001b[0;34m]\u001b[0m\u001b[0;34m[\u001b[0m\u001b[0mt\u001b[0m\u001b[0;34m-\u001b[0m\u001b[0;36m1\u001b[0m\u001b[0;34m]\u001b[0m \u001b[0;34m*\u001b[0m \u001b[0mx_transport\u001b[0m\u001b[0;34m[\u001b[0m\u001b[0;34m'jetfuel'\u001b[0m\u001b[0;34m]\u001b[0m \u001b[0;32mfor\u001b[0m \u001b[0mt\u001b[0m \u001b[0;32min\u001b[0m \u001b[0mtime_horizon\u001b[0m\u001b[0;34m]\u001b[0m\u001b[0;34m\u001b[0m\u001b[0;34m\u001b[0m\u001b[0m\n\u001b[1;32m      4\u001b[0m \u001b[0mhydrogen_transport\u001b[0m \u001b[0;34m=\u001b[0m \u001b[0;34m[\u001b[0m\u001b[0my\u001b[0m\u001b[0;34m[\u001b[0m\u001b[0;34m'Customer_1_Steel_Plant'\u001b[0m\u001b[0;34m]\u001b[0m\u001b[0;34m[\u001b[0m\u001b[0mt\u001b[0m\u001b[0;34m-\u001b[0m\u001b[0;36m1\u001b[0m\u001b[0;34m]\u001b[0m \u001b[0;34m*\u001b[0m \u001b[0mx_transport\u001b[0m\u001b[0;34m[\u001b[0m\u001b[0;34m'hydrogen'\u001b[0m\u001b[0;34m]\u001b[0m \u001b[0;34m+\u001b[0m \u001b[0my\u001b[0m\u001b[0;34m[\u001b[0m\u001b[0;34m'Customer_2_Chemical_Plant'\u001b[0m\u001b[0;34m]\u001b[0m\u001b[0;34m[\u001b[0m\u001b[0mt\u001b[0m\u001b[0;34m-\u001b[0m\u001b[0;36m1\u001b[0m\u001b[0;34m]\u001b[0m \u001b[0;34m*\u001b[0m \u001b[0;34m(\u001b[0m\u001b[0;36m1\u001b[0m \u001b[0;34m-\u001b[0m \u001b[0mx_transport\u001b[0m\u001b[0;34m[\u001b[0m\u001b[0;34m'ammonia'\u001b[0m\u001b[0;34m]\u001b[0m\u001b[0;34m)\u001b[0m \u001b[0;34m/\u001b[0m \u001b[0;36m0.8\u001b[0m \u001b[0;34m+\u001b[0m \u001b[0my\u001b[0m\u001b[0;34m[\u001b[0m\u001b[0;34m'Customer_3_Airport'\u001b[0m\u001b[0;34m]\u001b[0m\u001b[0;34m[\u001b[0m\u001b[0mt\u001b[0m\u001b[0;34m-\u001b[0m\u001b[0;36m1\u001b[0m\u001b[0;34m]\u001b[0m \u001b[0;34m*\u001b[0m \u001b[0;34m(\u001b[0m\u001b[0;36m1\u001b[0m \u001b[0;34m-\u001b[0m \u001b[0mx_transport\u001b[0m\u001b[0;34m[\u001b[0m\u001b[0;34m'jetfuel'\u001b[0m\u001b[0;34m]\u001b[0m\u001b[0;34m)\u001b[0m \u001b[0;34m/\u001b[0m \u001b[0;34m(\u001b[0m\u001b[0;36m0.71\u001b[0m \u001b[0;34m*\u001b[0m \u001b[0;36m0.75\u001b[0m\u001b[0;34m)\u001b[0m \u001b[0;32mfor\u001b[0m \u001b[0mt\u001b[0m \u001b[0;32min\u001b[0m \u001b[0mtime_horizon\u001b[0m\u001b[0;34m]\u001b[0m\u001b[0;34m\u001b[0m\u001b[0;34m\u001b[0m\u001b[0m\n\u001b[1;32m      5\u001b[0m \u001b[0;34m\u001b[0m\u001b[0m\n",
      "\u001b[0;32m/var/folders/gn/jb2kp6kn1nsclsgjb0t1shl00000gn/T/ipykernel_37677/4179520503.py\u001b[0m in \u001b[0;36m<listcomp>\u001b[0;34m(.0)\u001b[0m\n\u001b[1;32m      1\u001b[0m \u001b[0;31m# Calculate individual values before constructing the dictionary\u001b[0m\u001b[0;34m\u001b[0m\u001b[0;34m\u001b[0m\u001b[0m\n\u001b[0;32m----> 2\u001b[0;31m \u001b[0mammonia_transport\u001b[0m \u001b[0;34m=\u001b[0m \u001b[0;34m[\u001b[0m\u001b[0my\u001b[0m\u001b[0;34m[\u001b[0m\u001b[0;34m'Customer_2_Chemical_Plant'\u001b[0m\u001b[0;34m]\u001b[0m\u001b[0;34m[\u001b[0m\u001b[0mt\u001b[0m\u001b[0;34m-\u001b[0m\u001b[0;36m1\u001b[0m\u001b[0;34m]\u001b[0m \u001b[0;34m*\u001b[0m \u001b[0mx_transport\u001b[0m\u001b[0;34m[\u001b[0m\u001b[0;34m'ammonia'\u001b[0m\u001b[0;34m]\u001b[0m \u001b[0;34m+\u001b[0m \u001b[0;34m(\u001b[0m\u001b[0my\u001b[0m\u001b[0;34m[\u001b[0m\u001b[0;34m'Customer_1_Steel_Plant'\u001b[0m\u001b[0;34m]\u001b[0m\u001b[0;34m[\u001b[0m\u001b[0mt\u001b[0m\u001b[0;34m-\u001b[0m\u001b[0;36m1\u001b[0m\u001b[0;34m]\u001b[0m \u001b[0;34m/\u001b[0m \u001b[0;36m0.7\u001b[0m\u001b[0;34m)\u001b[0m \u001b[0;34m*\u001b[0m \u001b[0mx\u001b[0m\u001b[0;34m[\u001b[0m\u001b[0;34m'ammonia_splitting'\u001b[0m\u001b[0;34m]\u001b[0m \u001b[0;34m+\u001b[0m \u001b[0;34m(\u001b[0m\u001b[0my\u001b[0m\u001b[0;34m[\u001b[0m\u001b[0;34m'Customer_3_Airport'\u001b[0m\u001b[0;34m]\u001b[0m\u001b[0;34m[\u001b[0m\u001b[0mt\u001b[0m\u001b[0;34m-\u001b[0m\u001b[0;36m1\u001b[0m\u001b[0;34m]\u001b[0m \u001b[0;34m/\u001b[0m \u001b[0;34m(\u001b[0m\u001b[0;36m0.7\u001b[0m\u001b[0;34m*\u001b[0m\u001b[0;36m0.75\u001b[0m\u001b[0;34m*\u001b[0m\u001b[0;36m0.71\u001b[0m\u001b[0;34m)\u001b[0m\u001b[0;34m)\u001b[0m \u001b[0;34m*\u001b[0m \u001b[0mx\u001b[0m\u001b[0;34m[\u001b[0m\u001b[0;34m'ammonia_splitting'\u001b[0m\u001b[0;34m]\u001b[0m \u001b[0;32mfor\u001b[0m \u001b[0mt\u001b[0m \u001b[0;32min\u001b[0m \u001b[0mtime_horizon\u001b[0m\u001b[0;34m]\u001b[0m\u001b[0;34m\u001b[0m\u001b[0;34m\u001b[0m\u001b[0m\n\u001b[0m\u001b[1;32m      3\u001b[0m \u001b[0mjetfuel_transport\u001b[0m \u001b[0;34m=\u001b[0m \u001b[0;34m[\u001b[0m\u001b[0my\u001b[0m\u001b[0;34m[\u001b[0m\u001b[0;34m'Customer_3_Airport'\u001b[0m\u001b[0;34m]\u001b[0m\u001b[0;34m[\u001b[0m\u001b[0mt\u001b[0m\u001b[0;34m-\u001b[0m\u001b[0;36m1\u001b[0m\u001b[0;34m]\u001b[0m \u001b[0;34m*\u001b[0m \u001b[0mx_transport\u001b[0m\u001b[0;34m[\u001b[0m\u001b[0;34m'jetfuel'\u001b[0m\u001b[0;34m]\u001b[0m \u001b[0;32mfor\u001b[0m \u001b[0mt\u001b[0m \u001b[0;32min\u001b[0m \u001b[0mtime_horizon\u001b[0m\u001b[0;34m]\u001b[0m\u001b[0;34m\u001b[0m\u001b[0;34m\u001b[0m\u001b[0m\n\u001b[1;32m      4\u001b[0m \u001b[0mhydrogen_transport\u001b[0m \u001b[0;34m=\u001b[0m \u001b[0;34m[\u001b[0m\u001b[0my\u001b[0m\u001b[0;34m[\u001b[0m\u001b[0;34m'Customer_1_Steel_Plant'\u001b[0m\u001b[0;34m]\u001b[0m\u001b[0;34m[\u001b[0m\u001b[0mt\u001b[0m\u001b[0;34m-\u001b[0m\u001b[0;36m1\u001b[0m\u001b[0;34m]\u001b[0m \u001b[0;34m*\u001b[0m \u001b[0mx_transport\u001b[0m\u001b[0;34m[\u001b[0m\u001b[0;34m'hydrogen'\u001b[0m\u001b[0;34m]\u001b[0m \u001b[0;34m+\u001b[0m \u001b[0my\u001b[0m\u001b[0;34m[\u001b[0m\u001b[0;34m'Customer_2_Chemical_Plant'\u001b[0m\u001b[0;34m]\u001b[0m\u001b[0;34m[\u001b[0m\u001b[0mt\u001b[0m\u001b[0;34m-\u001b[0m\u001b[0;36m1\u001b[0m\u001b[0;34m]\u001b[0m \u001b[0;34m*\u001b[0m \u001b[0;34m(\u001b[0m\u001b[0;36m1\u001b[0m \u001b[0;34m-\u001b[0m \u001b[0mx_transport\u001b[0m\u001b[0;34m[\u001b[0m\u001b[0;34m'ammonia'\u001b[0m\u001b[0;34m]\u001b[0m\u001b[0;34m)\u001b[0m \u001b[0;34m/\u001b[0m \u001b[0;36m0.8\u001b[0m \u001b[0;34m+\u001b[0m \u001b[0my\u001b[0m\u001b[0;34m[\u001b[0m\u001b[0;34m'Customer_3_Airport'\u001b[0m\u001b[0;34m]\u001b[0m\u001b[0;34m[\u001b[0m\u001b[0mt\u001b[0m\u001b[0;34m-\u001b[0m\u001b[0;36m1\u001b[0m\u001b[0;34m]\u001b[0m \u001b[0;34m*\u001b[0m \u001b[0;34m(\u001b[0m\u001b[0;36m1\u001b[0m \u001b[0;34m-\u001b[0m \u001b[0mx_transport\u001b[0m\u001b[0;34m[\u001b[0m\u001b[0;34m'jetfuel'\u001b[0m\u001b[0;34m]\u001b[0m\u001b[0;34m)\u001b[0m \u001b[0;34m/\u001b[0m \u001b[0;34m(\u001b[0m\u001b[0;36m0.71\u001b[0m \u001b[0;34m*\u001b[0m \u001b[0;36m0.75\u001b[0m\u001b[0;34m)\u001b[0m \u001b[0;32mfor\u001b[0m \u001b[0mt\u001b[0m \u001b[0;32min\u001b[0m \u001b[0mtime_horizon\u001b[0m\u001b[0;34m]\u001b[0m\u001b[0;34m\u001b[0m\u001b[0;34m\u001b[0m\u001b[0m\n\u001b[1;32m      5\u001b[0m \u001b[0;34m\u001b[0m\u001b[0m\n",
      "\u001b[0;31mTypeError\u001b[0m: can only concatenate tuple (not \"float\") to tuple"
     ]
    }
   ],
   "source": [
    "# Calculate individual values before constructing the dictionary\n",
    "ammonia_transport = [y['Customer_2_Chemical_Plant'][t-1] * x_transport['ammonia'] + (y['Customer_1_Steel_Plant'][t-1] / 0.7) * x['ammonia_splitting'] + (y['Customer_3_Airport'][t-1] / (0.7*0.75*0.71)) * x['ammonia_splitting'] for t in time_horizon]\n",
    "jetfuel_transport = [y['Customer_3_Airport'][t-1] * x_transport['jetfuel'] for t in time_horizon]\n",
    "hydrogen_transport = [y['Customer_1_Steel_Plant'][t-1] * x_transport['hydrogen'] + y['Customer_2_Chemical_Plant'][t-1] * (1 - x_transport['ammonia']) / 0.8 + y['Customer_3_Airport'][t-1] * (1 - x_transport['jetfuel']) / (0.71 * 0.75) for t in time_horizon]\n",
    "\n",
    "# Construct the dictionary with the calculated values\n",
    "transported_product = {\n",
    "    'ammonia': ammonia_transport,\n",
    "    'jetfuel': jetfuel_transport,\n",
    "    'hydrogen': hydrogen_transport\n",
    "}\n",
    "\n",
    "\n",
    "print(f\"transported ammonia {transported_product['ammonia']}\")\n",
    "print(\"transported jetfuel\" + transported_product['jetfuel'])\n",
    "\n",
    "technologies = ['photovoltaic', 'wind', 'PEM_electrolyzer', 'alkaline_electrolyzer', 'FT_synthesis', 'ammonia_synthesis','ammonia_splitting','battery']\n",
    "products = ['hydrogen', 'ammonia', 'jetfuel']\n",
    "\n",
    "\n",
    "cash_inflow_customer = {}\n",
    "\n",
    "for c in customers:\n",
    "    cash_inflow_customer[c] = {}\n",
    "    for t in time_horizon:\n",
    "        if c == 'Customer_1_Steel_Plant':\n",
    "            cash_inflow_customer[c][t-1] = price_per_unit['hydrogen'] * y[c][t-1]\n",
    "        elif c == 'Customer_2_Chemical_Plant':\n",
    "            cash_inflow_customer[c][t-1] = price_per_unit['ammonia'] * y[c][t-1]\n",
    "        elif c == 'Customer_3_Airport':\n",
    "            cash_inflow_customer[c][t-1] = price_per_unit['jetfuel'] * y[c][t-1]\n",
    "        \n",
    "\n",
    "# Initial Investment\n",
    "init_investment = sum(capex[i] * capacity[i] for i in technologies)\n",
    "print('initial investment: ' + str(init_investment))\n",
    "\n",
    "# Cash Inflow customer\n",
    "cash_inflow = {}\n",
    "for t in time_horizon:\n",
    "    cash_inflow[t-1] = sum(cash_inflow_customer[c][t-1] for c in customers)\n",
    "\n",
    "print(cash_inflow)\n",
    "\n",
    "cash_outflow_CO2 = {}\n",
    "\n",
    "for t in time_horizon:\n",
    "    cash_outflow_CO2 [t-1] = CO2_demand_per_unit_jetfuel * point_source_costs * y['Customer_3_Airport'][t-1]\n",
    "\n",
    "print(cash_outflow_CO2)\n",
    "\n",
    "cash_outflow_technology = {}\n",
    "\n",
    "for i in technologies:\n",
    "    cash_outflow_technology[i] = {}\n",
    "    for t in time_horizon:\n",
    "        cash_outflow_technology[i][t-1] = opex[i]  * capacity[i]\n",
    "\n",
    "print(cash_outflow_technology)\n",
    "\n",
    "cash_outflow_transport = {}\n",
    "for i in products:\n",
    "    cash_outflow_transport[i] = {}\n",
    "    for t in time_horizon:\n",
    "        cash_outflow_transport[i][t-1] = transported_product[i][t-1] * transport_costs[i]\n",
    "\n",
    "print(cash_outflow_transport)\n",
    "\n",
    "cash_outflow = {}\n",
    "for t in time_horizon:\n",
    "    cash_outflow[t-1] = sum(cash_outflow_technology[i][t-1] for i in technologies) + sum(cash_outflow_transport[i][t-1] for i in products) + cash_outflow_CO2[t-1]"
   ]
  },
  {
   "cell_type": "code",
   "execution_count": null,
   "metadata": {},
   "outputs": [
    {
     "name": "stdout",
     "output_type": "stream",
     "text": [
      "-1528227272.7272725\n"
     ]
    }
   ],
   "source": [
    "i = 0.1\n",
    "\n",
    "NPV = - 0.5 * init_investment - 0.5 * init_investment / (1+i) \n",
    "+ sum(\n",
    "    ( cash_inflow[t - 1]\n",
    "    - cash_outflow[t - 1]\n",
    "    ) \n",
    "    / ((1 + i) ** (t+1))\n",
    "    for t in time_horizon\n",
    ")\n",
    "\n",
    "print(NPV)\n",
    "\n",
    "#ROI = ... / ...\n",
    "#print(ROI)\n",
    "\n",
    "#amortization = ...\n",
    "#print(amortization)\n",
    "\n"
   ]
  }
 ],
 "metadata": {
  "kernelspec": {
   "display_name": "base",
   "language": "python",
   "name": "python3"
  },
  "language_info": {
   "codemirror_mode": {
    "name": "ipython",
    "version": 3
   },
   "file_extension": ".py",
   "mimetype": "text/x-python",
   "name": "python",
   "nbconvert_exporter": "python",
   "pygments_lexer": "ipython3",
   "version": "3.9.13"
  },
  "orig_nbformat": 4
 },
 "nbformat": 4,
 "nbformat_minor": 2
}
